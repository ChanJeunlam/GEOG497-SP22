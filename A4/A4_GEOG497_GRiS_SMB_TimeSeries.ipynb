{
 "cells": [
  {
   "cell_type": "markdown",
   "metadata": {},
   "source": [
    "# GEOG 497 - Spring 2021 - Cryosphere & Climate Systems\n",
    "### A4: Greenland ice sheet SMB\n",
    "\n",
    "### Code to calculate time series of SMB variables from RACMO2.3p2 over the Greenland ice sheet\n",
    "\n",
    "Input data: Annual sums of SMB and SMB components at 1 km spatial resolution\n",
    "* Reference: https://advances.sciencemag.org/content/5/9/eaaw0123\n",
    "        \n",
    "You will need to specify:\n",
    "* Start and end years over which the mean of a variable of interest will be calculated\n",
    "* Variable and input file names\n",
    "* Plot titles, min/max values, and contour interval\n",
    "\n",
    "Output:\n",
    "* Line plot and/or text data\n",
    "\n",
    "### Run the following code block first:"
   ]
  },
  {
   "cell_type": "code",
   "execution_count": null,
   "metadata": {},
   "outputs": [],
   "source": [
    "# import python packages that allow for data reading, analysis, and plotting\n",
    "import xarray as xr\n",
    "import numpy as np\n",
    "import matplotlib.pyplot as plt\n",
    "import matplotlib.colors as colors\n",
    "import cartopy.crs as ccrs\n",
    "import cartopy.feature as cfe\n",
    "import pandas as pd\n",
    "\n",
    "# where are the data located?\n",
    "dataFolder = '/gpfs/group/ljt5282/default/ClimateModels/RACMO2.3p2-d055/yearly/'"
   ]
  },
  {
   "cell_type": "markdown",
   "metadata": {},
   "source": [
    "**These are the available yearly (sum or mean) RACMO2.3p2 data to plot**\n",
    "\n",
    "In the code block below that does the plotting, you will need to specify the filename and variable name for one or more of these fields. \n",
    "\n",
    "| Variable type   | Units  | Filename | Variable name | \n",
    "|-----------------|--------|----------|---------------|\n",
    "| Precipitation (solid + liquid) | mm w.e. | precip.1958-2017.BN_RACMO2.3p2_FGRN055_GrIS.MM_yearsum.nc | precipcorr |\n",
    "| Refreeze | mm w.e. | refreeze.1958-2017.BN_RACMO2.3p2_FGRN055_GrIS.MM_yearsum.nc | refreezecorr |\n",
    "| Runoff | mm w.e. | runoff.1958-2017.BN_RACMO2.3p2_FGRN055_GrIS.MM_yearsum.nc  | runoffcorr |\n",
    "| SMB | mm w.e. | smb_rec.1958-2017.BN_RACMO2.3p2_FGRN055_GrIS.MM.nc_fix_yearsum.nc  | SMB_rec  |\n",
    "| Snowfall | mm w.e. | snowfall.1958-2017.BN_RACMO2.3p2_FGRN055_GrIS.MM_yearsum.nc | snowfallcorr |\n",
    "| Snowmelt | mm w.e. | snowmelt.1958-2017.BN_RACMO2.3p2_FGRN055_GrIS.MM_yearsum.nc | snowmeltcorr |\n",
    "| Sublimation | mm w.e. | subl.1958-2017.BN_RACMO2.3p2_FGRN055_GrIS.MM_yearsum.nc | sublcorr |\n",
    "| 2-m air temperature | K | t2m.1958-2017.BN_RACMO2.3p2_FGRN055_GrIS.MM_yearmean.nc | t2mcorr |\n",
    "\n",
    "Advice:\n",
    "* You can edit the code below to load, calculate, and plot more variables with a little effort. \n",
    "* Alternatively, you can use the last code block to display the time series as text data that you could copy/paste into another program for plotting/analysis. "
   ]
  },
  {
   "cell_type": "code",
   "execution_count": null,
   "metadata": {},
   "outputs": [],
   "source": [
    "# Set the appropriate data file name and variable name using the above reference\n",
    "data_file_name = 'smb_rec.1958-2017.BN_RACMO2.3p2_FGRN055_GrIS.MM.nc_fix_yearsum.nc'\n",
    "variable_name = 'SMB_rec'\n",
    "\n",
    "# Read the netcdf file and load the variable from it \n",
    "# then define a new time dimension [needed here due to issues with default racmo time dimension]\n",
    "ds = xr.open_dataset(dataFolder + data_file_name, decode_times=False)\n",
    "ds['time'] = pd.date_range(start='1958-01-01', periods=ds.sizes['time'], freq='YS')\n",
    "var = ds[variable_name]\n",
    "dims = var.dims # <- gets the dimension names (time is always dim[0] here, but spatial dimensions either x/lon or y/lat)\n",
    "\n",
    "# calculate annual SMB for full GrIS\n",
    "smb = var.sum(dim=(dims[1],dims[2])) # <- sums across x/lon and y/lat dimensions, units: mm w.e. yr-1\n",
    "smbGT = smb * 1e-6 * 1 * 1 # 1e-6 km/mm * 1 km * 1 km (grid area) = km3 yr = Gt yr-1\n",
    "\n",
    "# Plot Timeseries\n",
    "\n",
    "# set up the plot\n",
    "fig, ax = plt.subplots(figsize=(15, 7.5))\n",
    "year = np.arange(1958, 2017 + 1)\n",
    "\n",
    "# add the data to the plot here\n",
    "line1 = ax.plot(year, smbGT, '-', linewidth=2, label='SMB')\n",
    "\n",
    "# set some plot properties\n",
    "ax.set(xlim=[1958, 2017])\n",
    "ax.grid(True)\n",
    "legend = ax.legend(fontsize=14)\n",
    "ax.set_ylabel(\"Mass flux (Gt yr$^{-1}$)\", fontsize=16)\n",
    "ax.tick_params(labelsize=16)"
   ]
  },
  {
   "cell_type": "code",
   "execution_count": null,
   "metadata": {},
   "outputs": [],
   "source": [
    "# print data, e.g., to bring into another program to plot\n",
    "varToPrint = smbGT # <- set this using on of your datasets from the plot\n",
    "for i in range(len(varToPrint)):\n",
    "    print(year[i], varToPrint[i].values)"
   ]
  },
  {
   "cell_type": "code",
   "execution_count": null,
   "metadata": {},
   "outputs": [],
   "source": []
  }
 ],
 "metadata": {
  "kernelspec": {
   "display_name": "geospatial-geog497",
   "language": "python",
   "name": "geospatial-geog497"
  },
  "language_info": {
   "codemirror_mode": {
    "name": "ipython",
    "version": 3
   },
   "file_extension": ".py",
   "mimetype": "text/x-python",
   "name": "python",
   "nbconvert_exporter": "python",
   "pygments_lexer": "ipython3",
   "version": "3.8.8"
  }
 },
 "nbformat": 4,
 "nbformat_minor": 4
}
