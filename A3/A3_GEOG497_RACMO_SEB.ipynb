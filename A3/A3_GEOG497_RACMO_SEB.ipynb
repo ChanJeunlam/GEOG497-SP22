{
 "cells": [
  {
   "cell_type": "markdown",
   "metadata": {},
   "source": [
    "# GEOG 497 - Spring 2021 - Cryosphere & Climate Systems\n",
    "### A3: Föhn winds driving Larsen C melt\n",
    "\n",
    "### Code to create RACMO2.3p2 5.5km SEB plots over the Antarctic Peninsula\n",
    "\n",
    "Input data: 3-hourly 5.5km RACMO2.3p2 for the AP\n",
    "* Source: https://zenodo.org/record/3677642#.YD_nEZNKhBw\n",
    "\n",
    "You will need to specify:\n",
    "* Start and end dates/times over which the mean of a variable of interest will be calculated\n",
    "* Variable & input file names\n",
    "* Plot titles, min/max values, and contour interval\n",
    "\n",
    "Output:\n",
    "* High resolution RACMO2.3p2 plot of the variable averaged over the given time period. \n",
    "\n",
    "### Run the following code block first:"
   ]
  },
  {
   "cell_type": "code",
   "execution_count": null,
   "metadata": {},
   "outputs": [],
   "source": [
    "# import python packages that allow for data reading, analysis, and plotting\n",
    "import xarray as xr\n",
    "import numpy as np\n",
    "import matplotlib.pyplot as plt\n",
    "import matplotlib.colors as colors\n",
    "import cartopy.crs as ccrs\n",
    "import cartopy.feature as cfe"
   ]
  },
  {
   "cell_type": "markdown",
   "metadata": {},
   "source": [
    "**These are the available hourly RACMO2.3p2 data to plot**\n",
    "\n",
    "In the code block below that does the plotting, you will need to specify the filename and variable name for one of these fields. \n",
    "\n",
    "| Variable type   | Units  | Filename | Variable name | \n",
    "|-----------------|--------|----------|---------------|\n",
    "| 10-m wind speed | m/s | ff10m.KNMI-2011.XPEN055.ERAINx_RACMO2.4.3H.nc_201605.nc | ff10m |\n",
    "| Latent heat flux | kg/m2/s | latf.KNMI-2011.XPEN055.ERAINx_RACMO2.4.3H.nc_201605.nc  | latf |\n",
    "| Net longwave radiation | W/m2 | lwsn.KNMI-2011.XPEN055.ERAINx_RACMO2.4.3H.nc_201605.nc  | lwsn  |\n",
    "| Total precipitative flux | kg/m2/s | precip.KNMI-2011.XPEN055.ERAINx_RACMO2.4.3H.nc_201605.nc | precip |\n",
    "| 2-m relative humidity | % | rh2m.KNMI-2011.XPEN055.ERAINx_RACMO2.4.3H.nc_201605.nc | rh2m |\n",
    "| Sensible heat flux | W/m2 | senf.KNMI-2011.XPEN055.ERAINx_RACMO2.4.3H.nc_201605.nc | senf |\n",
    "| Net shortwave radiation | W/m2 | swsn.KNMI-2011.XPEN055.ERAINx_RACMO2.4.3H.nc_201605.nc  | swsn |\n",
    "| 2-m air temperature | K | t2m.KNMI-2011.XPEN055.ERAINx_RACMO2.4.3H.nc_201605.nc | t2m |\n",
    "| Surface (skin) temperature | K | tskin.KNMI-2011.XPEN055.ERAINx_RACMO2.4.3H.nc_201605.nc | tskin |\n",
    "\n",
    "Advice:\n",
    "* Keep in mind the units. What ranges should we expect for a particular variable?\n",
    "* If you are plotting a SEB term (esp. SHF, LHF), recall that these can be positive or negative. Thus, Setting minimum and maximum plot values so that zero is in the middle is ideal.\n",
    "* If you are plotting t2m or skin temperature, it may be useful to subtract 273.15 to the variable to convert from K to C (thus allowing you to easily see where the 0°C contour is!). You can do this by adding `data = data-273.15` after the data variable is defined in the code. \n",
    "\n",
    "### In the following code block, you will set the time period of interest. After editing, be sure to run. "
   ]
  },
  {
   "cell_type": "code",
   "execution_count": null,
   "metadata": {},
   "outputs": [],
   "source": [
    "# [-------- EDIT THIS SECTION --------]\n",
    "# define the time perid of interest (the major fohn event id'ed using FöhnDA method at AWS18)\n",
    "# Values need to be in a specific format, like: 2021-03-02T13:00 [YYYY-MM-DDTHH:MM]\n",
    "starttime = '2016-05-15T06:00'\n",
    "endtime = '2016-05-15T23:00'"
   ]
  },
  {
   "cell_type": "markdown",
   "metadata": {},
   "source": [
    "### Below is the code that creates a plot using the parameters you specify at the top of the block. \n",
    "\n",
    "Once you get your first plot the way you like it, you can copy and paste the code below into a new block and edit it slightly to plot a different variable. "
   ]
  },
  {
   "cell_type": "code",
   "execution_count": null,
   "metadata": {},
   "outputs": [],
   "source": [
    "# [-------- EDIT THIS SECTION --------]\n",
    "# Set the appropriate data file name and variable name using the above reference\n",
    "data_file_name = 'senf.KNMI-2011.XPEN055.ERAINx_RACMO2.4.3H.nc_201605.nc'\n",
    "variable_name = 'senf'\n",
    "\n",
    "# set the plot and colorbar titles\n",
    "plot_title = 'Sensible Heat Flux'\n",
    "colorbar_label = 'SHF [W/m2]'\n",
    "\n",
    "# set the min and max values of your plot, as well as the contour interval\n",
    "# experiment with these to get a good looking plot\n",
    "# these are numerical values not in quotes\n",
    "min_plot_value = -150 \n",
    "max_plot_value = 150\n",
    "contour_interval = 2.5\n",
    "\n",
    "# choose a color map from https://matplotlib.org/stable/tutorials/colors/colormaps.html\n",
    "# ** for LHF/SHF terms use a diverging color map and set the min/max values so that 0 is in the middle (i.e., a neutral color) **\n",
    "# ** for these, I recommend RdBu, but reversed so that positive (warming) fluxes are red and negative (cooling) fluxes are blue **\n",
    "colormap_name = 'RdBu'\n",
    "reverse_colormap = True # True or False (must be capitalized and not in quotes)\n",
    "\n",
    "# [-------- GENERALLY NO NEED TO EDIT BELOW--------]\n",
    "\n",
    "# Read NetCDF, select variable, and take temporal mean over time of interest \n",
    "dataFolder = './Data/'\n",
    "ds = xr.open_dataset(dataFolder + data_file_name)\n",
    "var = ds[variable_name].squeeze() # squeeze gets rid of unncessary single-dimension coordinates (here: height)\n",
    "data = var.sel(time=slice(starttime, endtime)).mean('time') # select the variable from the dataset over just the interval of interest, then take mean over the time dimension\n",
    "\n",
    "# add a line here to scale the data field in some way (e.g., to convert units), e.g.,:\n",
    "# data = data * 60 * 60 * 3 # [convert kg m-2 s-1 to kg m-2 hr-1]\n",
    "\n",
    "# Set up a plot: size, projection, and geographic extent. \n",
    "plt.figure(figsize=(15,15))\n",
    "ax = plt.subplot(projection=ccrs.Stereographic(central_longitude=-45, central_latitude=-75))\n",
    "ax.set_extent([-72,-52,-73,-62], ccrs.PlateCarree())\n",
    "\n",
    "# This is some extra code that deals with rotated pole projection of RACMO\n",
    "# Defines a Cartopy coordinate reference system for the data \n",
    "rlon = ds.rlon.values\n",
    "rlat = ds.rlat.values\n",
    "racmoCRS = ccrs.RotatedPole(pole_longitude=ds.rotated_pole.grid_north_pole_longitude,\n",
    "                            pole_latitude=ds.rotated_pole.grid_north_pole_latitude)\n",
    "\n",
    "# This will set the minimum and maximum values on your plot: min, max, contour interval\n",
    "clevs = np.arange(min_plot_value,max_plot_value+1,contour_interval)\n",
    "\n",
    "# deal with colormap reversal, if set to True\n",
    "if reverse_colormap:\n",
    "    colormap_name = colormap_name + '_r' \n",
    "    \n",
    "# Plot data \n",
    "result = ax.contourf(rlon, rlat, data, clevs, extend='both', cmap=colormap_name, transform=racmoCRS)\n",
    "\n",
    "# add coastlines \n",
    "ax.coastlines(resolution='10m')\n",
    "ax.add_feature(cfe.NaturalEarthFeature('physical', 'antarctic_ice_shelves_lines', '10m', edgecolor='k', facecolor='none'))\n",
    "\n",
    "# This sets the colorbar info. Set the label here appropriate to the variable you're plotting.\n",
    "plt.colorbar(result, orientation='vertical', label=colorbar_label, shrink=0.95, pad=0.05)\n",
    "\n",
    "# This sets the title of the plot.\n",
    "ax.set_title(plot_title + '\\n' + starttime + ' to ' + endtime, size='xx-large')\n",
    "\n",
    "# show the plot\n",
    "plt.show()"
   ]
  },
  {
   "cell_type": "code",
   "execution_count": null,
   "metadata": {},
   "outputs": [],
   "source": []
  }
 ],
 "metadata": {
  "kernelspec": {
   "display_name": "Python 3",
   "language": "python",
   "name": "python3"
  },
  "language_info": {
   "codemirror_mode": {
    "name": "ipython",
    "version": 3
   },
   "file_extension": ".py",
   "mimetype": "text/x-python",
   "name": "python",
   "nbconvert_exporter": "python",
   "pygments_lexer": "ipython3",
   "version": "3.7.9"
  }
 },
 "nbformat": 4,
 "nbformat_minor": 4
}
