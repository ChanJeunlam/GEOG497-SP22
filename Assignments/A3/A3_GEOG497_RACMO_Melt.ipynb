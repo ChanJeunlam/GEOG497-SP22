{
 "cells": [
  {
   "cell_type": "markdown",
   "metadata": {},
   "source": [
    "# GEOG 497 - Spring 2021 - Cryosphere & Climate Systems\n",
    "### A3: Föhn winds driving Larsen C melt\n",
    "\n",
    "### Code to create RACMO2.3p2 27-km snowmelt plots over the Antarctic Peninsula\n",
    "\n",
    "You will need to specify:\n",
    "* Start and end dates/times over which the SUM of snowmelt will be calculated\n",
    "* Plot titles, min/max values, and contour interval\n",
    "\n",
    "Output:\n",
    "* Plot of RACMO2.3p2 snowmelt summed over the given time period. \n",
    "\n",
    "### Run the following code block first:"
   ]
  },
  {
   "cell_type": "code",
   "execution_count": null,
   "metadata": {},
   "outputs": [],
   "source": [
    "# import python packages that allow for data reading, analysis, and plotting\n",
    "import xarray as xr\n",
    "import numpy as np\n",
    "import matplotlib.pyplot as plt\n",
    "import matplotlib.colors as colors\n",
    "import cartopy.crs as ccrs\n",
    "import cartopy.feature as cfe\n",
    "\n",
    "%config InlineBackend.figure_format = 'retina' # make high res plots"
   ]
  },
  {
   "cell_type": "markdown",
   "metadata": {},
   "source": [
    "**These are the available daily RACMO2.3p2 snowmelt data to plot**\n",
    "\n",
    "| Variable type   | Units  | Filename | Variable name | \n",
    "|-----------------|--------|----------|---------------|\n",
    "| Snow melt flux | mm w.e. | RACMO2.3p2_ANT27_snowmelt_daily_2011_2019_08.nc | snowmelt |\n",
    "\n",
    "Advice:\n",
    "* Note that these data are daily averages, not 3-hourly like the SEB terms, so they will include *some* non-fohn conditions. \n",
    "* Also note that these data are from a continent-wide version of RACMO2.3p2 run at 27-km resolution. The SEB terms you analyzed were from an AP-specific simulation of RACMO at a higher 5.5km resolution.\n",
    "\n",
    "### In the following code block, you will set the time period of interest. After editing, be sure to run. "
   ]
  },
  {
   "cell_type": "code",
   "execution_count": null,
   "metadata": {},
   "outputs": [],
   "source": [
    "# [-------- EDIT THIS SECTION --------]\n",
    "# define the time perid of interest (the major fohn event id'ed at AWS18)\n",
    "# Values need to be in a specific format, like: 2021-03-02T13:00 [YYYY-MM-DDTHH:MM]\n",
    "starttime = '2015-01-25T00:00'\n",
    "endtime = '2015-01-27T00:00'"
   ]
  },
  {
   "cell_type": "markdown",
   "metadata": {},
   "source": [
    "### Below is the code that creates a plot using the parameters you specify at the top of the block. "
   ]
  },
  {
   "cell_type": "code",
   "execution_count": null,
   "metadata": {},
   "outputs": [],
   "source": [
    "# [-------- EDIT THIS SECTION --------]\n",
    "# Set the appropriate data file name and variable name using the above reference\n",
    "data_file_name = 'RACMO2.3p2_ANT27_snowmelt_daily_2011_2019_08.nc'\n",
    "variable_name = 'snowmelt'\n",
    "\n",
    "# set the plot and colorbar titles\n",
    "plot_title = 'Snow Melt Flux'\n",
    "colorbar_label = 'Melt rate [mm w.e.]'\n",
    "\n",
    "# set the min and max values of your plot, as well as the contour interval\n",
    "# experiment with these to get a good looking plot\n",
    "# these are numerical values not in quotes\n",
    "min_plot_value = 0 \n",
    "max_plot_value = 50\n",
    "contour_interval = 1\n",
    "\n",
    "# choose a color map from https://matplotlib.org/stable/tutorials/colors/colormaps.html\n",
    "colormap_name = 'Blues'\n",
    "reverse_colormap = False # True or False (must be capitalized and not in quotes)\n",
    "\n",
    "# [-------- GENERALLY NO NEED TO EDIT BELOW--------]\n",
    "\n",
    "# Read NetCDF, select variable, and take temporal mean over time of interest \n",
    "dataFolder = './Data/'\n",
    "ds = xr.open_dataset(dataFolder + data_file_name)\n",
    "var = ds[variable_name].squeeze() # squeeze gets rid of unncessary single-dimension coordinates \n",
    "data = var.sel(time=slice(starttime, endtime)).sum('time') # select the variable from the dataset over just the interval of interest, then take mean over the time dimension\n",
    "\n",
    "# add a line here to scale the data field in some way (e.g., to convert units), e.g.,:\n",
    "data = data * 86400 # [convert kg m-2 s-1 to kg m-2 d-1 or mm w.e.]\n",
    "\n",
    "# Set up a plot: size, projection, and geographic extent. \n",
    "plt.figure(figsize=(15,15))\n",
    "ax = plt.subplot(projection=ccrs.Stereographic(central_longitude=-45, central_latitude=-75))\n",
    "ax.set_extent([-72,-52,-73,-62], ccrs.PlateCarree())\n",
    "\n",
    "# This is some extra code that deals with rotated pole projection of RACMO\n",
    "# Defines a Cartopy coordinate reference system for the data \n",
    "rlon = ds.rlon.values\n",
    "rlat = ds.rlat.values\n",
    "racmoCRS = ccrs.RotatedPole(pole_longitude=ds.rotated_pole.grid_north_pole_longitude,\n",
    "                            pole_latitude=ds.rotated_pole.grid_north_pole_latitude)\n",
    "\n",
    "# This will set the minimum and maximum values on your plot: min, max, contour interval\n",
    "clevs = np.arange(min_plot_value,max_plot_value+1,contour_interval)\n",
    "\n",
    "# deal with colormap reversal, if set to True\n",
    "if reverse_colormap:\n",
    "    colormap_name = colormap_name + '_r' \n",
    "    \n",
    "# Plot data \n",
    "result = ax.pcolormesh(rlon, rlat, data, vmin=min_plot_value, vmax=max_plot_value, transform=racmoCRS, cmap=colormap_name)\n",
    "\n",
    "# add coastlines \n",
    "ax.coastlines(resolution='10m')\n",
    "ax.add_feature(cfe.NaturalEarthFeature('physical', 'antarctic_ice_shelves_lines', '10m', edgecolor='k', facecolor='none'))\n",
    "\n",
    "# This sets the colorbar info. Set the label here appropriate to the variable you're plotting.\n",
    "cb = plt.colorbar(result, orientation='vertical', shrink=0.95, pad=0.05)\n",
    "cb.set_label(label=colorbar_label, size='large')\n",
    "cb.ax.tick_params(labelsize=12) \n",
    "\n",
    "# This sets the title of the plot.\n",
    "ax.set_title(plot_title + '\\n' + starttime + ' to ' + endtime, size='xx-large')\n",
    "\n",
    "# show the plot\n",
    "plt.show()"
   ]
  },
  {
   "cell_type": "code",
   "execution_count": null,
   "metadata": {},
   "outputs": [],
   "source": []
  }
 ],
 "metadata": {
  "kernelspec": {
   "display_name": "Python 3",
   "language": "python",
   "name": "python3"
  },
  "language_info": {
   "codemirror_mode": {
    "name": "ipython",
    "version": 3
   },
   "file_extension": ".py",
   "mimetype": "text/x-python",
   "name": "python",
   "nbconvert_exporter": "python",
   "pygments_lexer": "ipython3",
   "version": "3.8.8"
  }
 },
 "nbformat": 4,
 "nbformat_minor": 4
}
