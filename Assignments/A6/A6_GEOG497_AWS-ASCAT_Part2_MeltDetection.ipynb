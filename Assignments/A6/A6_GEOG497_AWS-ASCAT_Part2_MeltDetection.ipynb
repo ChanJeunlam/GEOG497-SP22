{
 "cells": [
  {
   "cell_type": "markdown",
   "metadata": {},
   "source": [
    "# GEOG 497 - Spring 2022 - Cryosphere & Climate Systems\n",
    "## A6: Remote sensing of ice sheet surface melt\n",
    "\n",
    "## Part 2: Experimenting with satellite-based melt detection\n",
    "\n",
    "Input data: ASCAT backscatter and AWS-derived melt rates (see Part 1 for details).\n",
    "        \n",
    "For this part of the assignment, you will experiment with setting a threshold value below a mean winter backscatter value with which to classify melt vs. no-melt from the ASCAT data.\n",
    "\n",
    "### Run the following code block first.\n",
    "This loads python packages and sets some plotting-related variables. "
   ]
  },
  {
   "cell_type": "code",
   "execution_count": null,
   "metadata": {},
   "outputs": [],
   "source": [
    "# Import python packages\n",
    "\n",
    "# for file searching\n",
    "import glob \n",
    "\n",
    "# for data reading/analysis\n",
    "import xarray as xr\n",
    "import pandas as pd\n",
    "import numpy as np\n",
    "\n",
    "#  for geographic projections\n",
    "from pyproj import Transformer\n",
    "\n",
    "# for plotting\n",
    "import matplotlib.pyplot as plt\n",
    "import matplotlib.style as style\n",
    "import matplotlib.dates as mdates\n",
    "from matplotlib.dates import DateFormatter\n",
    "import datetime\n",
    "\n",
    "# seaborn adds some extra visual appeal to our plots\n",
    "import seaborn as sns\n",
    "\n",
    "# Handle date time conversions between pandas and matplotlib\n",
    "from pandas.plotting import register_matplotlib_converters\n",
    "register_matplotlib_converters()\n",
    "\n",
    "# set some universal plot settings here\n",
    "plt.rcParams[\"figure.dpi\"] = 200\n",
    "plt.rcParams['axes.xmargin'] = 0.05\n",
    "sns.set_style('darkgrid')\n",
    "sns.set_context(\"notebook\", font_scale=0.75)\n",
    "%config InlineBackend.figure_format = 'retina' # make high res plots for retina 5k displays\n",
    "\n",
    "# lastly, this specifies where the AWS and ASCAT data are located\n",
    "awsFolder = './Data/'\n",
    "ascatFolder = '/gpfs/group/ljt5282/default/ASCAT_data/netcdfs/annual/'"
   ]
  },
  {
   "cell_type": "markdown",
   "metadata": {},
   "source": [
    "### Preliminary step 1: read all the ASCAT data files\n",
    "This reads all of the continent-wide, daily temporal resolution ASCAT netcdf files using `xarray`. Afterward, we will subset these data to only the grid cell nearest to the AWS location of interest.\n",
    "\n",
    "Here, we'll also read netcdfs containing winter-mean (June, July, August; JJA) backscatter grids that have been pre-calculated."
   ]
  },
  {
   "cell_type": "code",
   "execution_count": null,
   "metadata": {},
   "outputs": [],
   "source": [
    "# read all yearly netcdfs using xarray and create new xarray DataSet variable\n",
    "ascat_ds = xr.open_mfdataset(ascatFolder + 'msfa*.nc')\n",
    "\n",
    "# read all yearly netcdfs using xarray and create new xarray DataSet variable\n",
    "ascat_jja_ds = xr.open_mfdataset(ascatFolder + 'jja_means/msfa*.nc')"
   ]
  },
  {
   "cell_type": "markdown",
   "metadata": {},
   "source": [
    "### Main code: Plot ASCAT and AWS melt data at one location\n",
    "Code here is all set up to work and should be used as a reference for making plots at other AWS sites.\n",
    "\n",
    "In the block directly below, you'll want to specify what AWS datafile we'll want to read.\n",
    "This then loads it using `pandas` and resamples the hourly data to daily means."
   ]
  },
  {
   "cell_type": "code",
   "execution_count": null,
   "metadata": {},
   "outputs": [],
   "source": [
    "# Use pandas to read SEB melt data for the AWS site\n",
    "aws_datafile = 'IMAU_aws14_high-res_meteo.tab'\n",
    "aws_folder_plus_file = awsFolder + aws_datafile\n",
    "aws_df = pd.read_csv(aws_folder_plus_file,\n",
    "                            sep='\\t', \n",
    "                            skiprows=40,\n",
    "                            parse_dates=['Date/Time'],\n",
    "                            index_col=['Date/Time'])\n",
    "\n",
    "# Resample hourly data to daily means and set as new pandas DataFrame variable\n",
    "aws_df_daily = aws_df.resample('D').mean()"
   ]
  },
  {
   "cell_type": "markdown",
   "metadata": {},
   "source": [
    "### Define the latitude and longitude of where the AWS is located. \n",
    "This info can be found in the AWS data file's header:"
   ]
  },
  {
   "cell_type": "code",
   "execution_count": null,
   "metadata": {},
   "outputs": [],
   "source": [
    "# here we're using a shell command 'head' to read the first few lines of the file\n",
    "# then we're piping it through the 'grep' command to search for text we're interested in.\n",
    "# this is also a useful point to verify that we're working with the AWS number we indend to work with\n",
    "\n",
    "!head $aws_folder_plus_file | grep LATITUDE"
   ]
  },
  {
   "cell_type": "code",
   "execution_count": null,
   "metadata": {},
   "outputs": [],
   "source": [
    "# Using that info from the header, specify here where this AWS is located (latitude and longitude)\n",
    "aws_lat = -67.020\n",
    "aws_lon = -61.50"
   ]
  },
  {
   "cell_type": "markdown",
   "metadata": {},
   "source": [
    "### Use pyproj to convert lat/lon coordinates in the projected x/y coordinates of the ASCAT data:"
   ]
  },
  {
   "cell_type": "code",
   "execution_count": null,
   "metadata": {},
   "outputs": [],
   "source": [
    "# from geographic lat/lon to EPSG:3976 (WGS 84 / NSIDC Sea Ice Polar Stereographic South)\n",
    "transformer = Transformer.from_crs(\"epsg:4326\", \"epsg:3976\")\n",
    "aws_x,aws_y = transformer.transform(aws_lat, aws_lon)"
   ]
  },
  {
   "cell_type": "markdown",
   "metadata": {},
   "source": [
    "### Subset the ASCAT data to the location and timespan of the AWS data"
   ]
  },
  {
   "cell_type": "code",
   "execution_count": null,
   "metadata": {},
   "outputs": [],
   "source": [
    "# Now, subset the ascat data to only the point (i.e., the grid cell nearest to the AWS site) and  only when it overlaps with the AWS data\n",
    "ascat_ds_ts_aws = ascat_ds['sigma0'].sel(x=aws_x, method=\"nearest\") \\\n",
    "                                    .sel(y=aws_y, method=\"nearest\") \\\n",
    "                                    .sel(time=slice(aws_df_daily.index.min(), aws_df_daily.index.max()))\n",
    "\n",
    "# also read the winter mean sigma0 values at the aws site \n",
    "jja_sigma0_site = ascat_jja_ds['sigma0'].sel(x=aws_x, method=\"nearest\").sel(y=aws_y, method=\"nearest\")"
   ]
  },
  {
   "cell_type": "markdown",
   "metadata": {},
   "source": [
    "### Plot the AWS-derived melt data and ASCAT data over that site, but also now add in lines that show the winter mean backscatter at that site."
   ]
  },
  {
   "cell_type": "code",
   "execution_count": null,
   "metadata": {},
   "outputs": [],
   "source": [
    "# Now, plot the AWS and ASCAT data\n",
    "\n",
    "# create a figure\n",
    "fig, ax = plt.subplots(figsize=(15, 7.5))\n",
    "\n",
    "# plot ascat data on first vetical axis\n",
    "line1 = ax.plot(ascat_ds_ts_aws.time, ascat_ds_ts_aws,\n",
    "                 label='ASCAT sigma0')\n",
    "\n",
    "# plot the winter means as horizontal bars\n",
    "\n",
    "# find the start and end years for the aws data\n",
    "# then use those to make an array of start and end dates for the winter means\n",
    "# lastly, convert these into datetime dates so we can plot\n",
    "startyear = aws_df_daily.index.min().year-1\n",
    "endyear = aws_df_daily.index.max().year+1\n",
    "years = np.arange(startyear,endyear)\n",
    "\n",
    "startdates = []\n",
    "enddates = []\n",
    "for i in range(len(years)):\n",
    "    startdate = str(years[i]) + '-06-01'\n",
    "    enddate = str(years[i]) + '-08-31'\n",
    "    startdates.append(startdate)\n",
    "    enddates.append(enddate)\n",
    "\n",
    "startdates_x = [datetime.datetime.strptime(d,\"%Y-%m-%d\").date() for d in startdates]\n",
    "enddates_x = [datetime.datetime.strptime(d,\"%Y-%m-%d\").date() for d in enddates]\n",
    "\n",
    "# loop through winter means and plot\n",
    "for i in range(len(years)):\n",
    "    ax.plot([startdates_x[i],enddates_x[i]], [jja_sigma0_site.sel(time=str(years[i])).values,jja_sigma0_site.sel(time=str(years[i])).values],\n",
    "            color='black',\n",
    "            linewidth=3) \n",
    "\n",
    "# make second vertical axis; plot aws data on it\n",
    "ax2 = ax.twinx()\n",
    "line2 = ax2.plot(aws_df_daily['Melt rate [mm w.e.] (surface melt, within dt)'], \n",
    "                label='AWS-derived melt rate', \n",
    "                color='indianred')\n",
    "\n",
    "# Set some display properties\n",
    "ax.set(ylabel='ASCAT backscatter at AWS site [dB]',\n",
    "       xlabel='Date',\n",
    "       title='AWS14')\n",
    "\n",
    "ax2.set(ylabel='Daily mean melt rate [mm w.e.]')\n",
    "ax2.yaxis.grid(False)\n",
    "\n",
    "ax2.set_ylim((-0.5, 0.5))\n",
    "ax.set_ylim((-30, 30))\n",
    "\n",
    "# add a legend now that we have 2 lines\n",
    "lines = line1 + line2\n",
    "labels = [l.get_label() for l in lines]\n",
    "ax.legend(lines, labels, loc='upper left')\n",
    "\n",
    "print('Winter mean backscatter shown as horizontal black lines')\n",
    "plt.show()\n"
   ]
  },
  {
   "cell_type": "markdown",
   "metadata": {},
   "source": [
    "## Experiment with setting a melt threshold\n",
    "Setting a threshold value (in dB) below the winter mean backscatter is a common way to classify the presence of meltwater at or near ice sheet surfaces due to the large decrease in backscatter that is typical with the presence of melt.\n",
    "\n",
    "Here, experiment with setting a threshold value and see the results."
   ]
  },
  {
   "cell_type": "code",
   "execution_count": null,
   "metadata": {},
   "outputs": [],
   "source": [
    "# First, set a threshold in dB from the winter mean and see how it affects melt detection\n",
    "threshold_value = # <- ENTER NUMBER HERE! (before #) \n",
    "melt_thresholds = jja_sigma0_site - threshold_value"
   ]
  },
  {
   "cell_type": "code",
   "execution_count": null,
   "metadata": {},
   "outputs": [],
   "source": [
    "# This code will apply the melt detection using the above threshold_value\n",
    "\n",
    "startdates_thresh = []\n",
    "enddates_thresh = []\n",
    "melt_detected_list = []\n",
    "for i in range(len(years)):\n",
    "    # select the ascat data in this melt year\n",
    "    startdate_t = str(years[i]) + '-07-01'\n",
    "    enddate_t = str(years[i]+1) + '-06-30'\n",
    "    cur_melt_year_ascat = ascat_ds_ts_aws.sel(time=slice(startdate_t, enddate_t))\n",
    "    # get the threshold for this year\n",
    "    cur_years_threshold = melt_thresholds.sel(time=str(years[i])).values\n",
    "    # set values <= than the threshold to 1, else 0\n",
    "    cur_melt_classified = xr.where(cur_melt_year_ascat <= cur_years_threshold, 1, 0)\n",
    "    melt_detected_list.append(cur_melt_classified) \n",
    "\n",
    "melt_detected_da = xr.concat(melt_detected_list, dim='time')"
   ]
  },
  {
   "cell_type": "code",
   "execution_count": null,
   "metadata": {},
   "outputs": [],
   "source": [
    "# Lastly, this code will plot the detected melt using your specified\n",
    "\n",
    "# create a figure\n",
    "fig, ax = plt.subplots(figsize=(15, 7.5))\n",
    "\n",
    "# plot ascat data on first vetical axis\n",
    "line1 = ax.plot(ascat_ds_ts_aws.time, ascat_ds_ts_aws,\n",
    "                 label='ASCAT sigma0')\n",
    "\n",
    "\n",
    "# make second vertical axis; plot aws data on it\n",
    "ax2 = ax.twinx()\n",
    "line2 = ax2.plot(aws_df_daily['Melt rate [mm w.e.] (surface melt, within dt)'], \n",
    "                label='AWS-derived melt rate', \n",
    "                color='indianred')\n",
    "\n",
    "# plot the winter means as horizontal bars\n",
    "\n",
    "# find the start and end years for the aws data\n",
    "# then use those to make an array of start and end dates for the winter means\n",
    "# lastly, convert these into datetime dates so we can plot\n",
    "startyear = aws_df_daily.index.min().year-1\n",
    "endyear = aws_df_daily.index.max().year+1\n",
    "years = np.arange(startyear,endyear)\n",
    "\n",
    "startdates = []\n",
    "enddates = []\n",
    "for i in range(len(years)):\n",
    "    startdate = str(years[i]) + '-06-01'\n",
    "    enddate = str(years[i]) + '-08-31'\n",
    "    startdates.append(startdate)\n",
    "    enddates.append(enddate)\n",
    "\n",
    "startdates_x = [datetime.datetime.strptime(d,\"%Y-%m-%d\").date() for d in startdates]\n",
    "enddates_x = [datetime.datetime.strptime(d,\"%Y-%m-%d\").date() for d in enddates]\n",
    "\n",
    "# loop through winter means and plot\n",
    "for i in range(len(years)):\n",
    "    ax.plot([startdates_x[i],enddates_x[i]], [jja_sigma0_site.sel(time=str(years[i])).values,jja_sigma0_site.sel(time=str(years[i])).values],\n",
    "            color='black',\n",
    "            linewidth=3) \n",
    "\n",
    "# now move on to the same logic for the melt thresholds\n",
    "startdates_thresh = []\n",
    "enddates_thresh = []\n",
    "for i in range(len(years)):\n",
    "    startdate_t = str(years[i]) + '-07-01'\n",
    "    enddate_t = str(years[i]+1) + '-06-30'\n",
    "    startdates_thresh.append(startdate_t)\n",
    "    enddates_thresh.append(enddate_t)\n",
    "\n",
    "startdates_thresh_x = [datetime.datetime.strptime(d,\"%Y-%m-%d\").date() for d in startdates_thresh]\n",
    "enddates_thresh_x = [datetime.datetime.strptime(d,\"%Y-%m-%d\").date() for d in enddates_thresh]\n",
    "\n",
    "for i in range(len(years)):\n",
    "    ax.plot([startdates_thresh_x[i],enddates_thresh_x[i]], \n",
    "            [melt_thresholds.sel(time=str(years[i])).values,melt_thresholds.sel(time=str(years[i])).values],\n",
    "            color='dimgray',\n",
    "            linewidth=2,\n",
    "            linestyle='dotted') \n",
    "\n",
    "# show detected melt\n",
    "ax3 = ax.twinx()\n",
    "line3 = ax3.fill_between(melt_detected_da.time.values,melt_detected_da, \n",
    "                label='ASCAT-detected melt', \n",
    "                color='cornflowerblue',\n",
    "                alpha=0.3)\n",
    "\n",
    "# Set some display properties\n",
    "ax.set(ylabel='ASCAT backscatter at AWS site [dB]',\n",
    "       xlabel='Date',\n",
    "       title='AWS14')\n",
    "\n",
    "ax2.set(ylabel='Daily mean melt rate [mm w.e.]')\n",
    "ax2.yaxis.grid(False)\n",
    "\n",
    "ax3.set_ylim((0,1))\n",
    "ax2.set_ylim((-0.5, 0.5))\n",
    "ax.set_ylim((-30, 30))\n",
    "\n",
    "ax3.yaxis.grid(False)\n",
    "\n",
    "# add a legend now that we have 2 lines\n",
    "lines = line1 + line2\n",
    "labels = [l.get_label() for l in lines]\n",
    "ax.legend(lines, labels, loc='lower left')\n",
    "\n",
    "print('Winter mean backscatter shown as horizontal black lines')\n",
    "print('Melt thresholds shown as horizontal dotted lines')\n",
    "print('Periods of detected melt shown as vertical blue blocks')\n",
    "\n",
    "plt.show()"
   ]
  },
  {
   "cell_type": "markdown",
   "metadata": {},
   "source": [
    "### What do you think?\n",
    "Does your `melt_threshold` seem to capture the periods of melt? You may want to experiment using a few different values to see the effect on melt detection. Once satisfied, move on to the next step in the assignment."
   ]
  },
  {
   "cell_type": "code",
   "execution_count": null,
   "metadata": {},
   "outputs": [],
   "source": []
  }
 ],
 "metadata": {
  "kernelspec": {
   "display_name": "geospatial-geog497",
   "language": "python",
   "name": "geospatial-geog497"
  },
  "language_info": {
   "codemirror_mode": {
    "name": "ipython",
    "version": 3
   },
   "file_extension": ".py",
   "mimetype": "text/x-python",
   "name": "python",
   "nbconvert_exporter": "python",
   "pygments_lexer": "ipython3",
   "version": "3.8.3"
  }
 },
 "nbformat": 4,
 "nbformat_minor": 4
}
